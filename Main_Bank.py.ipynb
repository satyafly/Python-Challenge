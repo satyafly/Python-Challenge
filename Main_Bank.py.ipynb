{
 "cells": [
  {
   "cell_type": "code",
   "execution_count": 1,
   "metadata": {
    "collapsed": true
   },
   "outputs": [],
   "source": [
    "import os\n",
    "import csv\n",
    "\n",
    "#Insert file location here\n",
    "file = os.path.join(\"raw_data\", \"budget_data_1.csv\")\n",
    "\n",
    "highest = 0\n",
    "lowest = 100000000000000\n",
    "totalsum = 0\n",
    "averagemonth = 0\n",
    "rowcount = 0\n",
    "i = 0\n",
    "previous = 0\n",
    "current = 0\n",
    "running = 0"
   ]
  },
  {
   "cell_type": "code",
   "execution_count": 4,
   "metadata": {},
   "outputs": [
    {
     "name": "stdout",
     "output_type": "stream",
     "text": [
      "Financial Analysis\n",
      "------------------------\n",
      "Total Months: 82\n",
      "Total Revenue: $37942824\n",
      "Average Revenue Change: $10779.68\n",
      "Greatest Increase in Revenue: $1195111 on Sep-15\n",
      "Greatest Decreased in Revenue: $-1172384 on Aug-14\n"
     ]
    }
   ],
   "source": [
    "with open(file, newline=\"\") as csvfile:\n",
    "\tcsvreader = csv.reader(csvfile, delimiter=\",\")\n",
    "\t\n",
    "\t# Skip header line\n",
    "\tnext(csvreader, None)\n",
    "\t\n",
    "\tfor row in csvreader:\n",
    "\t\n",
    "\t\tif int(row[1]) >= highest:\n",
    "\t\t\thighest = int(row[1])\n",
    "\t\t\thighname = str(row[0])\n",
    "\t\n",
    "\t\tif int(row[1])\t <= lowest:\n",
    "\t\t\tlowest = int(row[1])\n",
    "\t\t\tlowname = str(row[0])\n",
    "\t\n",
    "\t\ttotalsum = int(totalsum) + int(row[1])\n",
    "\t\trowcount = rowcount + 1\n",
    "\t\t\n",
    "\t\t#While loop to find the monthly change\n",
    "\t\twhile i <= rowcount-2:\n",
    "\t\t\tprevious = current\n",
    "\t\t\tcurrent = int(row[1])\n",
    "\t\t\trunning = running + (current - previous)\n",
    "\t\t\ti = i + 1\n",
    "\n",
    "\t\taveragemonth = running / rowcount\n",
    "\n",
    "print(\"Financial Analysis\")\n",
    "print(\"------------------------\")\n",
    "print(\"Total Months: \" + str(rowcount))\n",
    "print(\"Total Revenue: $\" + str(totalsum))\n",
    "print(\"Average Revenue Change: $\" + str(round(averagemonth,2)))\n",
    "print(\"Greatest Increase in Revenue: $\" + str(highest) + \" on \" + highname)\n",
    "print(\"Greatest Decreased in Revenue: $\" + str(lowest) + \" on \" + lowname)"
   ]
  },
  {
   "cell_type": "code",
   "execution_count": null,
   "metadata": {
    "collapsed": true
   },
   "outputs": [],
   "source": []
  }
 ],
 "metadata": {
  "kernelspec": {
   "display_name": "Python 3",
   "language": "python",
   "name": "python3"
  },
  "language_info": {
   "codemirror_mode": {
    "name": "ipython",
    "version": 3
   },
   "file_extension": ".py",
   "mimetype": "text/x-python",
   "name": "python",
   "nbconvert_exporter": "python",
   "pygments_lexer": "ipython3",
   "version": "3.6.3"
  }
 },
 "nbformat": 4,
 "nbformat_minor": 2
}
