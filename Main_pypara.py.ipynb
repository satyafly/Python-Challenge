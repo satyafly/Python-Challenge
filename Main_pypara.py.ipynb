{
 "cells": [
  {
   "cell_type": "code",
   "execution_count": 1,
   "metadata": {
    "collapsed": true
   },
   "outputs": [],
   "source": [
    "#Paragraph Analysis\n",
    "\n",
    "# Dependencies\n",
    "import os\n",
    "import csv\n",
    "import re\n",
    "import numpy"
   ]
  },
  {
   "cell_type": "code",
   "execution_count": 2,
   "metadata": {},
   "outputs": [
    {
     "name": "stdout",
     "output_type": "stream",
     "text": [
      "Paragraph Analysis\n",
      "--------------------\n",
      "In the file : paragraph_2.txt\n",
      "Approximate Word count: 293\n"
     ]
    }
   ],
   "source": [
    "# create path for file budget_data_2.csv\n",
    "csvpath = os.path.join('paragraph_2.txt')\n",
    "# open and read file from new line\n",
    "with open(csvpath, newline=\"\") as csvfile:\n",
    "#\tprint(csvfile.read())\n",
    "#\tcsv_reader = csv.reader(csvfile, delimiter=\",\")\n",
    "\t\n",
    "\t#Find all words in the paragraph. counts hyphenated words as 2 words.\n",
    "\twords=re.findall(r'\\w+', csvfile.read())\n",
    "\t\n",
    "\tprint(\"Paragraph Analysis\")\n",
    "\tprint(\"--------------------\")\n",
    "\tprint(\"In the file : \" + csvpath)\n",
    "\tprint(\"Approximate Word count: \"+ str(len(words) - 1))"
   ]
  },
  {
   "cell_type": "code",
   "execution_count": 3,
   "metadata": {},
   "outputs": [
    {
     "name": "stdout",
     "output_type": "stream",
     "text": [
      "Approximate Sentence Count: 11\n",
      "Approximate Letter Count per Word: 5.31880637686\n",
      "Approximate word Count per sentence: 26.0909090909\n"
     ]
    }
   ],
   "source": [
    "with open(csvpath, newline=\"\") as csvfile:\n",
    "\t#split the paragraph into sentences at .\n",
    "\tsentences = re.split(r'[!?]+|(?<!\\.)\\.(?!\\.)', csvfile.read())\n",
    "\t\n",
    "\t\n",
    "\t#print(sentences)\n",
    "\tprint(\"Approximate Sentence Count: \" + str(len(sentences) - 1))\n",
    "\t\n",
    "\t#Create empty list of Total_Letter_Count to findaverage letter count later\n",
    "\tTotal_letter_count = []\n",
    "\n",
    "\t#Create empty list of Total_word_Count to findaverage word count later\n",
    "\tTotal_word_count = []\n",
    "\n",
    "\tfor i in range(0, len(sentences)-1):\n",
    "\t\t\n",
    "\t\t#create a list of words by sentence splitting\n",
    "\t\twords = sentences[i].split()\n",
    "\n",
    "\t\t#Find Letter count for each word in the sentence\n",
    "\t\tletter_count_per_word = [len(w) for w in words]\n",
    "\n",
    "\t\t#find average of the letter count of each word in the list\n",
    "\t\taverage = numpy.mean(letter_count_per_word)\n",
    "\n",
    "\t\t#add the averages of the letter count of words of each sentence to this list\n",
    "\t\tTotal_letter_count.append(average)\n",
    "\t\tTotal_word_count.append(int(len(words)))\n",
    "\t\t\n",
    "\t\t# Code to find average letter count per word per Sentence, just in case is needed\n",
    "\t\t#print(\"Sentence: \"+ str(i+1))\n",
    "\t\t#print(\"--------------\")\n",
    "\t\t#print(words)\n",
    "\t\t#print(len(words))\n",
    "\t\t#print(\"Approximate Letter Count per Word: \" + str(average))\n",
    "\t\t#print(letter_count_per_word)\n",
    "\t\t#print(Total_letter_count)\n",
    "\n",
    "\t#Find the average of letter count of words for each senetence from the list created\t\n",
    "\taverage_letter_count=numpy.mean(Total_letter_count)\n",
    "\n",
    "\n",
    "\t#Find the average of word count of each senetence from the list created\t\n",
    "\taverage_word_count=numpy.mean(Total_word_count)\n",
    "\n",
    "\t#print average letter count across all sentence\n",
    "\tprint(\"Approximate Letter Count per Word: \" + str(average_letter_count))\n",
    "\t\t\n",
    "\t#print average word count across all sentence\n",
    "\tprint(\"Approximate word Count per sentence: \" + str(average_word_count))\n",
    "      "
   ]
  },
  {
   "cell_type": "code",
   "execution_count": null,
   "metadata": {
    "collapsed": true
   },
   "outputs": [],
   "source": []
  },
  {
   "cell_type": "code",
   "execution_count": null,
   "metadata": {
    "collapsed": true
   },
   "outputs": [],
   "source": []
  },
  {
   "cell_type": "code",
   "execution_count": null,
   "metadata": {
    "collapsed": true
   },
   "outputs": [],
   "source": []
  }
 ],
 "metadata": {
  "kernelspec": {
   "display_name": "Python 3",
   "language": "python",
   "name": "python3"
  },
  "language_info": {
   "codemirror_mode": {
    "name": "ipython",
    "version": 3
   },
   "file_extension": ".py",
   "mimetype": "text/x-python",
   "name": "python",
   "nbconvert_exporter": "python",
   "pygments_lexer": "ipython3",
   "version": "3.6.3"
  }
 },
 "nbformat": 4,
 "nbformat_minor": 2
}
